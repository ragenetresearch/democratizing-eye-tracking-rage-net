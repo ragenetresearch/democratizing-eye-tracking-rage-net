{
 "cells": [
  {
   "cell_type": "markdown",
   "source": [
    "# Preprocess\n",
    "Preprocess images."
   ],
   "metadata": {
    "collapsed": false
   },
   "id": "9705a209ebf16196"
  },
  {
   "cell_type": "markdown",
   "source": [
    "## Load libraries"
   ],
   "metadata": {
    "collapsed": false
   },
   "id": "141f30cf0eb367a9"
  },
  {
   "cell_type": "code",
   "execution_count": 1,
   "outputs": [],
   "source": [
    "# Load libraries\n",
    "import os, sys\n",
    "from pathlib import Path\n",
    "\n",
    "import cv2\n",
    "import numpy as np\n",
    "import pandas as pd\n",
    "\n",
    "# Relative imports\n",
    "module_path = os.path.abspath(os.path.join('..', '..'))\n",
    "if module_path not in sys.path:\n",
    "    sys.path.append(module_path)\n",
    "\n",
    "from Normalizers.MixedNormalizer import MixedNormalizer"
   ],
   "metadata": {
    "collapsed": false
   },
   "id": "59aee880-cf77-4309-97f4-e81d264d730b"
  },
  {
   "cell_type": "markdown",
   "id": "f7805de8-cd1d-4a77-9ae3-6998018766f4",
   "metadata": {
    "tags": []
   },
   "source": [
    "## Configuration"
   ]
  },
  {
   "cell_type": "markdown",
   "source": [
    "### Calibration parameters\n",
    "**!Note:** Parameters were obtained using camera calibration using OpenCv library. For more information about camera calibration see:\n",
    "- https://www.pythonpool.com/opencv-solvepnp/\n",
    "- https://learnopencv.com/head-pose-estimation-using-opencv-and-dlib/"
   ],
   "metadata": {
    "collapsed": false
   },
   "id": "92bba13746720739"
  },
  {
   "cell_type": "code",
   "execution_count": 3,
   "id": "741ac29a-a6e9-451d-b040-3f2868eb556e",
   "metadata": {},
   "outputs": [],
   "source": [
    "camera_matrix = np.array([[1.49454593e+03, 0., 9.55794289e+02],\n",
    "                         [0., 1.49048883e+03, 5.18040731e+02],\n",
    "                         [0., 0., 1.]], dtype = 'float64')\n",
    "\n",
    "camera_distortion = np.array([[ 0.08599595, -0.37972518, -0.0059906,  -0.00468435,  0.45227431]], dtype = 'float64')"
   ]
  },
  {
   "cell_type": "markdown",
   "id": "e4afb406-fc7b-456c-9d7c-3fbe612223bb",
   "metadata": {},
   "source": [
    "### Directories"
   ]
  },
  {
   "cell_type": "code",
   "execution_count": 4,
   "id": "a4612db0-ad52-426e-972e-a280f67b1834",
   "metadata": {},
   "outputs": [],
   "source": [
    "data_directory = '../../Datasets/Study_2/Meta.tsv'\n",
    "base_path = '../../Datasets/Study_2/Participants'\n",
    "\n",
    "output_data_directory = '../../Datasets/Study_2/Meta.tsv'\n",
    "normalised_directory = 'Normalised'"
   ]
  },
  {
   "cell_type": "markdown",
   "source": [
    "## Normalisation"
   ],
   "metadata": {
    "collapsed": false
   },
   "id": "537e0dbbda814def"
  },
  {
   "cell_type": "markdown",
   "source": [
    "### Load meta"
   ],
   "metadata": {
    "collapsed": false
   },
   "id": "e47f91a56b5da97f"
  },
  {
   "cell_type": "code",
   "execution_count": null,
   "outputs": [],
   "source": [
    "df = pd.read_csv(data_directory, header=0, delimiter='\\t')"
   ],
   "metadata": {
    "collapsed": false
   },
   "id": "b6b920f2008f3722"
  },
  {
   "cell_type": "markdown",
   "source": [
    "### Execute normalisation"
   ],
   "metadata": {
    "collapsed": false
   },
   "id": "9a01457238ad5a2c"
  },
  {
   "cell_type": "code",
   "execution_count": 34,
   "id": "82cfcd71-ffdf-4a90-bbd9-7fce09166781",
   "metadata": {
    "tags": []
   },
   "outputs": [
    {
     "name": "stdout",
     "output_type": "stream",
     "text": [
      "Currently processing row: 0\n",
      "Currently processing row: 200\n",
      "Currently processing row: 400\n",
      "Currently processing row: 600\n",
      "Currently processing row: 800\n",
      "Currently processing row: 1000\n",
      "Currently processing row: 1200\n",
      "Currently processing row: 1400\n",
      "Currently processing row: 1600\n",
      "Currently processing row: 1800\n",
      "Currently processing row: 2000\n",
      "Currently processing row: 2200\n",
      "Currently processing row: 2400\n",
      "Currently processing row: 2600\n",
      "Currently processing row: 2800\n",
      "Currently processing row: 3000\n",
      "Currently processing row: 3200\n",
      "Currently processing row: 3400\n",
      "Currently processing row: 3600\n",
      "Currently processing row: 3800\n",
      "Currently processing row: 4000\n",
      "Currently processing row: 4200\n",
      "Currently processing row: 4400\n",
      "Currently processing row: 4600\n",
      "Currently processing row: 4800\n"
     ]
    }
   ],
   "source": [
    "normalizer = MixedNormalizer(base_path='../../')\n",
    "normalizer.set_calibration_parameters(camera_matrix, camera_distortion)\n",
    "\n",
    "total_error_images = 0\n",
    "\n",
    "for index, row in df.iterrows():\n",
    "    if index % 200 == 0:\n",
    "        print(f'Currently processing row: {index}')\n",
    "    image_path = f'{base_path}/{row[\"Participant\"]}/{row[\"Case\"]}/{row[\"File\"]}'\n",
    "    try:\n",
    "        processed_eyes, _, _ = normalizer.normalize_image(image_path)\n",
    "        \n",
    "        # Create directories if not exists\n",
    "        Path(f'{base_path}/{row[\"Participant\"]}/{row[\"Case\"]}/{normalised_directory}').mkdir(parents=True, exist_ok=True)\n",
    "        \n",
    "        # Save images\n",
    "        cv2.imwrite(f'{base_path}/{row[\"Participant\"]}/{row[\"Case\"]}/{normalised_directory}/{index}_right_eye.jpg', processed_eyes[0])\n",
    "        cv2.imwrite(f'{base_path}/{row[\"Participant\"]}/{row[\"Case\"]}/{normalised_directory}/{index}_left_eye.jpg', processed_eyes[1])\n",
    "        \n",
    "        # Update dataframe\n",
    "        df.loc[index, 'Right_eye_normalized'] = f'{index}_right_eye.jpg'\n",
    "        df.loc[index, 'Left_eye_normalized'] = f'{index}_left_eye.jpg'\n",
    "        \n",
    "    except Exception as e:\n",
    "        total_error_images += 1\n",
    "        print(f'{e}, Metadata: (P: {row[\"Participant\"]}, C: {row[\"Case\"]}, F: {row[\"File\"]})')\n",
    "        "
   ]
  },
  {
   "cell_type": "markdown",
   "source": [
    "### Save updated dataframe\n",
    "New dataframe contains normalised file names."
   ],
   "metadata": {
    "collapsed": false
   },
   "id": "a82bb19d92d5cac4"
  },
  {
   "cell_type": "code",
   "execution_count": 10,
   "id": "662b3991-2e95-4855-a471-9e006b911854",
   "metadata": {},
   "outputs": [],
   "source": [
    "# Save dataframe\n",
    "df.to_csv(output_data_directory, sep='\\t', index=False)"
   ]
  }
 ],
 "metadata": {
  "kernelspec": {
   "display_name": "Python 3 (ipykernel)",
   "language": "python",
   "name": "python3"
  },
  "language_info": {
   "codemirror_mode": {
    "name": "ipython",
    "version": 3
   },
   "file_extension": ".py",
   "mimetype": "text/x-python",
   "name": "python",
   "nbconvert_exporter": "python",
   "pygments_lexer": "ipython3",
   "version": "3.9.13"
  }
 },
 "nbformat": 4,
 "nbformat_minor": 5
}
