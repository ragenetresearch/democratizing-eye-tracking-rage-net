{
 "cells": [
  {
   "cell_type": "markdown",
   "id": "acb44f7a-0a4d-4188-a791-6058ccf44390",
   "metadata": {},
   "source": [
    "# Flops calculation"
   ]
  },
  {
   "cell_type": "markdown",
   "id": "f4426708-7140-441f-9f96-cfa31011d2c9",
   "metadata": {},
   "source": [
    "## Import libraries"
   ]
  },
  {
   "cell_type": "code",
   "execution_count": 8,
   "id": "3bea1883-4604-430f-83d1-1a6671b649cd",
   "metadata": {},
   "outputs": [],
   "source": [
    "import os\n",
    "import sys\n",
    "\n",
    "import tensorflow as tf\n",
    "from tensorflow.python.framework import ops\n",
    "from tensorflow.python.keras.utils import tf_utils\n",
    "from tensorflow.python.profiler import model_analyzer\n",
    "from tensorflow.python.profiler import option_builder\n",
    "\n",
    "sys.path.append(os.path.abspath(os.path.join('..')))\n",
    "from Models import CNNResNetSWAttention"
   ]
  },
  {
   "cell_type": "markdown",
   "id": "ea94a423-3742-41dc-8ffe-ecb4268879c7",
   "metadata": {},
   "source": [
    "## Functions"
   ]
  },
  {
   "cell_type": "code",
   "execution_count": 9,
   "id": "67834572-86b1-4a99-ac2c-1dd065b33f77",
   "metadata": {},
   "outputs": [],
   "source": [
    "def get_flops(model):\n",
    "    # Batch size of 1 for profiling\n",
    "    input_shape = (1, 60, 36, 1)\n",
    "    \n",
    "    # Fummy inputs for forward pass\n",
    "    input_right = tf.random.normal(input_shape)\n",
    "    input_left = tf.random.normal(input_shape)\n",
    "    \n",
    "    @tf.function\n",
    "    def forward_pass(input_right, input_left):\n",
    "        return model([input_right, input_left])\n",
    "    \n",
    "    # Profile the model to calculate FLOPs\n",
    "    graph_info = model_analyzer.profile(\n",
    "        forward_pass.get_concrete_function(input_right, input_left).graph,\n",
    "        options=option_builder.ProfileOptionBuilder.float_operation()\n",
    "    )\n",
    "    \n",
    "    return graph_info.total_float_ops"
   ]
  },
  {
   "cell_type": "markdown",
   "id": "47048db0-7ca0-4f71-85f9-23d1621ea93e",
   "metadata": {},
   "source": [
    "## Create model and calculate flops"
   ]
  },
  {
   "cell_type": "code",
   "execution_count": 10,
   "id": "7062f3fb-b2a4-4da0-b2f1-ce301dc87b1e",
   "metadata": {},
   "outputs": [
    {
     "name": "stdout",
     "output_type": "stream",
     "text": [
      "MACs: 4.895054337 G\n",
      "FLOPs: 9.790108674 G\n",
      "Params: 28.659722 M\n"
     ]
    }
   ],
   "source": [
    "model = CNNResNetSWAttention.create_resnet18_sw__attention(input_shape=(60, 36, 1),\n",
    "                                                            bn=False,\n",
    "                                                            first_dense_units=512,\n",
    "                                                            fc_layer_units=[2048, 1024],\n",
    "                                                            debug=False)\n",
    "\n",
    "flops = get_flops(model)\n",
    "# Assuming MACs = FLOPs / 2\n",
    "macs = flops / 2 \n",
    "print(f\"MACs: {macs / 1e+9:,} G\")\n",
    "print(f\"FLOPs: {flops / 1e+9:,} G\")\n",
    "print(f\"Params: {model.count_params() / 1e+6:,} M\")"
   ]
  }
 ],
 "metadata": {
  "kernelspec": {
   "display_name": "“dp_tensorflow”",
   "language": "python",
   "name": "dp_tensorflow"
  },
  "language_info": {
   "codemirror_mode": {
    "name": "ipython",
    "version": 3
   },
   "file_extension": ".py",
   "mimetype": "text/x-python",
   "name": "python",
   "nbconvert_exporter": "python",
   "pygments_lexer": "ipython3",
   "version": "3.9.13"
  }
 },
 "nbformat": 4,
 "nbformat_minor": 5
}
